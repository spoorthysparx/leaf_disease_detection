{
 "cells": [
  {
   "cell_type": "code",
   "execution_count": 1,
   "id": "c47b3416",
   "metadata": {},
   "outputs": [],
   "source": [
    "from fastai.vision.all import *"
   ]
  },
  {
   "cell_type": "code",
   "execution_count": 14,
   "id": "486e4de3",
   "metadata": {},
   "outputs": [
    {
     "data": {
      "text/plain": [
       "Path('../model')"
      ]
     },
     "execution_count": 14,
     "metadata": {},
     "output_type": "execute_result"
    }
   ],
   "source": [
    "model_path = Path(\"../model\")\n",
    "model_path"
   ]
  },
  {
   "cell_type": "code",
   "execution_count": 15,
   "id": "e86deea4",
   "metadata": {},
   "outputs": [],
   "source": [
    "def get_x(f):\n",
    "    return f\"{path}/{f['image_id']}.jpg\"\n",
    "\n",
    "def get_y(f):\n",
    "    return f['label']"
   ]
  },
  {
   "cell_type": "code",
   "execution_count": 17,
   "id": "f6678c36",
   "metadata": {},
   "outputs": [],
   "source": [
    "VOCAB_LIST = ['healthy', 'multiple_diseases', 'rust', 'scab']"
   ]
  },
  {
   "cell_type": "code",
   "execution_count": 18,
   "id": "9b9e10fd",
   "metadata": {},
   "outputs": [],
   "source": [
    "def total_error_metric(preds, targets, labels = range(len(VOCAB_LIST))):\n",
    "    #one-hot encoded targets\n",
    "    targets = np.eye(4)[targets]\n",
    "    return np.mean([roc_auc_score(targets[:,i],preds[:,i]) for i in labels])\n",
    "\n",
    "def healthy_roc_Auc(*args):\n",
    "    return total_error_metric(*args, labels = [0])\n",
    "\n",
    "def multiple_diseases_roc_Auc(*args):\n",
    "    return total_error_metric(*args, labels = [1])\n",
    "\n",
    "def rust_roc_Auc(*args):\n",
    "    return total_error_metric(*args, labels = [2])\n",
    "\n",
    "def scab_roc_Auc(*args):\n",
    "    return total_error_metric(*args, labels = [3])"
   ]
  },
  {
   "cell_type": "code",
   "execution_count": 19,
   "id": "6c206a98",
   "metadata": {
    "scrolled": true
   },
   "outputs": [],
   "source": [
    "learn_inf = load_learner(model_path/\"base_model_export.pkl\", cpu=True)"
   ]
  },
  {
   "cell_type": "code",
   "execution_count": 22,
   "id": "4a155d7d",
   "metadata": {
    "scrolled": true
   },
   "outputs": [
    {
     "data": {
      "text/html": [],
      "text/plain": [
       "<IPython.core.display.HTML object>"
      ]
     },
     "metadata": {},
     "output_type": "display_data"
    },
    {
     "data": {
      "text/plain": [
       "'scab'"
      ]
     },
     "execution_count": 22,
     "metadata": {},
     "output_type": "execute_result"
    }
   ],
   "source": [
    "learn_inf.predict('../images/scab.jpg')[0]"
   ]
  },
  {
   "cell_type": "code",
   "execution_count": null,
   "id": "06f4d313",
   "metadata": {},
   "outputs": [],
   "source": []
  }
 ],
 "metadata": {
  "kernelspec": {
   "display_name": "Python 3 (ipykernel)",
   "language": "python",
   "name": "python3"
  },
  "language_info": {
   "codemirror_mode": {
    "name": "ipython",
    "version": 3
   },
   "file_extension": ".py",
   "mimetype": "text/x-python",
   "name": "python",
   "nbconvert_exporter": "python",
   "pygments_lexer": "ipython3",
   "version": "3.7.11"
  }
 },
 "nbformat": 4,
 "nbformat_minor": 5
}
